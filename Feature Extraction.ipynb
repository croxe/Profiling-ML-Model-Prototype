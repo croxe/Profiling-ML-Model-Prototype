{
 "cells": [
  {
   "cell_type": "markdown",
   "id": "b991f9f4",
   "metadata": {
    "tags": []
   },
   "source": [
    "# Feature Extraction"
   ]
  },
  {
   "cell_type": "markdown",
   "id": "6a643ac7",
   "metadata": {},
   "source": [
    "Import library and read local cpu_ffmpeg.csv"
   ]
  },
  {
   "cell_type": "code",
   "execution_count": 1,
   "id": "e3b36047",
   "metadata": {
    "tags": []
   },
   "outputs": [],
   "source": [
    "\n",
    "import pandas as pd\n",
    "import numpy as np\n",
    "import importlib\n",
    "from scipy import stats\n",
    "from skfeature.utility import *\n",
    "from sklearn.feature_selection import VarianceThreshold, mutual_info_classif, SelectKBest, chi2, f_classif\n",
    "from sklearn.preprocessing import MinMaxScaler"
   ]
  },
  {
   "cell_type": "code",
   "execution_count": 2,
   "id": "0aacca0b",
   "metadata": {
    "tags": []
   },
   "outputs": [],
   "source": [
    "\n",
    "pwd = \"C:/Users/42times28/Desktop/AI506/AMD/Assignment2/\"\n",
    "inputDir = \"Input/\"\n",
    "processedDir = \"Preprocessed/\"\n",
    "featuresDir = \"Features/\"\n",
    "#filename = \"cpu-data.csv\"\n",
    "filename = \"df_latest_nj_8bench_mem.xlsx\""
   ]
  },
  {
   "cell_type": "code",
   "execution_count": 3,
   "id": "2dd49b26-9ba1-423d-ade6-10d492f87a45",
   "metadata": {
    "tags": []
   },
   "outputs": [
    {
     "data": {
      "text/html": [
       "<style>\n",
       ".output {\n",
       "    flex-direction: row;\n",
       "}\n",
       "</style>"
      ],
      "text/plain": [
       "<IPython.core.display.HTML object>"
      ]
     },
     "execution_count": 3,
     "metadata": {},
     "output_type": "execute_result"
    }
   ],
   "source": [
    "from IPython.display import display, HTML\n",
    "\n",
    "CSS = \"\"\"\n",
    ".output {\n",
    "    flex-direction: row;\n",
    "}\n",
    "\"\"\"\n",
    "\n",
    "HTML('<style>{}</style>'.format(CSS))"
   ]
  },
  {
   "cell_type": "code",
   "execution_count": 4,
   "id": "4f6e94ad-baba-4f1f-845b-6210d7d756a2",
   "metadata": {
    "tags": []
   },
   "outputs": [],
   "source": [
    "def load_excel_to_dataframe(filename = \"\"):\n",
    "    if filename == \"\":\n",
    "        from tkinter import Tk\n",
    "        from tkinter.filedialog import askopenfilename\n",
    "\n",
    "        Tk().withdraw()\n",
    "        filename = askopenfilename()\n",
    "        \n",
    "    df = pd.read_excel(filename)\n",
    "    return df"
   ]
  },
  {
   "cell_type": "code",
   "execution_count": 5,
   "id": "e9c72e51-65e2-4d92-b595-a1ae9aac8a17",
   "metadata": {},
   "outputs": [],
   "source": [
    "def drop_string_datetime_na(dataframe):\n",
    "    timestamp = dataframe['timestamp']\n",
    "    dataframe = dataframe[list(dataframe.T[(dataframe.dtypes==np.float64) | (dataframe.dtypes==np.int64)].index) + [\"host\", \"uuid\"]]\n",
    "    dataframe[dataframe.T[dataframe.dtypes==np.int64].index] = dataframe[dataframe.T[dataframe.dtypes==np.int64].index].astype(float)\n",
    "    dataframe = dataframe.dropna(axis=1, how='all')\n",
    "    nunique = dataframe.nunique()\n",
    "    cols_to_drop = nunique[nunique == 1].index\n",
    "    dataframe = dataframe.drop(list(cols_to_drop) + [\"Unnamed: 0\"], axis=1)\n",
    "    return dataframe, timestamp"
   ]
  },
  {
   "cell_type": "code",
   "execution_count": 6,
   "id": "c4aa177d-9a44-439a-a0d4-413b972dc402",
   "metadata": {},
   "outputs": [],
   "source": [
    "\n",
    "def removeCorrelatedFeatures(dataframe):\n",
    "    sel = VarianceThreshold(threshold=0.01)\n",
    "    sel.fit_transform(dataframe)\n",
    "    quasi_constant = [col for col in dataframe.columns if col not in sel.get_feature_names_out()]\n",
    "    train = dataframe[sel.get_feature_names_out()]\n",
    "    corr_matrix = train.corr()\n",
    "    corr_features = [feature for feature in corr_matrix.columns if (corr_matrix[feature].iloc[:corr_matrix.columns.get_loc(feature)] > 0.8).any()]\n",
    "    dataframe = dataframe.drop(quasi_constant + corr_features, axis=1)\n",
    "    features = dataframe.columns\n",
    "    nparray = MinMaxScaler().fit_transform(dataframe)\n",
    "    return pd.DataFrame(nparray, columns = features)\n",
    "\n",
    "\n",
    "    \n",
    "def selectFeaturesFunc(dataframe, y, function_name):\n",
    "    module = importlib.import_module('sklearn.feature_selection')\n",
    "    func = getattr(module, function_name)\n",
    "    func_features = SelectKBest(func, k = len(dataframe.columns) // 4 + 2)\n",
    "    X_kbest_features = func_features.fit(dataframe.to_numpy(), y)\n",
    "    return X_kbest_features.get_feature_names_out(dataframe.columns).tolist()\n"
   ]
  },
  {
   "cell_type": "code",
   "execution_count": 7,
   "id": "8aa47540-8685-4f77-a468-6d87d994f7e1",
   "metadata": {
    "tags": []
   },
   "outputs": [],
   "source": [
    "def applyFeatureSelection(dataframe):\n",
    "    #benchmarks = dataframe['host']\n",
    "    #platforms = dataframe['uuid']\n",
    "    #features = list(dataframe.columns.values)\n",
    "\n",
    "    y = dataframe['host']\n",
    "    dataframe = dataframe.drop(['host', 'uuid'], axis=1)\n",
    "    uncorr_df = removeCorrelatedFeatures(dataframe)\n",
    "    selectedFeatures = []\n",
    "    \n",
    "    selectedFeatures += selectFeaturesFunc(uncorr_df, y, \"mutual_info_classif\")\n",
    "    selectedFeatures += selectFeaturesFunc(uncorr_df, y, \"chi2\")\n",
    "    selectedFeatures += selectFeaturesFunc(uncorr_df, y, \"f_classif\")\n",
    "    \n",
    "    selectedFeatures = np.unique(selectedFeatures)\n",
    "\n",
    "    dataframe = dataframe[selectedFeatures]\n",
    "    nparray = MinMaxScaler().fit_transform(dataframe)\n",
    "    dataframe = pd.DataFrame(nparray, columns = selectedFeatures)\n",
    "    return dataframe, y\n",
    "    "
   ]
  },
  {
   "cell_type": "code",
   "execution_count": 8,
   "id": "b348c662-6d18-4271-9cbe-82a614de171b",
   "metadata": {
    "tags": []
   },
   "outputs": [
    {
     "name": "stderr",
     "output_type": "stream",
     "text": [
      "C:\\Users\\42times28\\AppData\\Local\\Temp\\ipykernel_15608\\3362051771.py:4: SettingWithCopyWarning: \n",
      "A value is trying to be set on a copy of a slice from a DataFrame.\n",
      "Try using .loc[row_indexer,col_indexer] = value instead\n",
      "\n",
      "See the caveats in the documentation: https://pandas.pydata.org/pandas-docs/stable/user_guide/indexing.html#returning-a-view-versus-a-copy\n",
      "  dataframe[dataframe.T[dataframe.dtypes==np.int64].index] = dataframe[dataframe.T[dataframe.dtypes==np.int64].index].astype(float)\n",
      "C:\\Users\\42times28\\.conda\\envs\\pytorch1.13\\lib\\site-packages\\sklearn\\feature_selection\\_univariate_selection.py:113: RuntimeWarning: divide by zero encountered in divide\n",
      "  f = msb / msw\n"
     ]
    }
   ],
   "source": [
    "#df = load_excel_to_dataframe()\n",
    "df = load_excel_to_dataframe(pwd + inputDir + filename)\n",
    "df, timestamp = drop_string_datetime_na(df)\n",
    "df, y = applyFeatureSelection(df)"
   ]
  },
  {
   "cell_type": "code",
   "execution_count": 9,
   "id": "28db3cae-4ce7-4b97-8fea-6cefabe78c3a",
   "metadata": {},
   "outputs": [
    {
     "name": "stdout",
     "output_type": "stream",
     "text": [
      "<class 'pandas.core.series.Series'>\n",
      "RangeIndex: 47520 entries, 0 to 47519\n",
      "Series name: timestamp\n",
      "Non-Null Count  Dtype         \n",
      "--------------  -----         \n",
      "47520 non-null  datetime64[ns]\n",
      "dtypes: datetime64[ns](1)\n",
      "memory usage: 371.4 KB\n"
     ]
    }
   ],
   "source": [
    "timestamp.info()"
   ]
  },
  {
   "cell_type": "code",
   "execution_count": 10,
   "id": "ab1954df-8815-43c0-b65a-2917bbdefdbb",
   "metadata": {},
   "outputs": [],
   "source": [
    "df['timestamp'] = timestamp\n",
    "df['id'] = y"
   ]
  },
  {
   "cell_type": "code",
   "execution_count": 11,
   "id": "16925884-2598-4e0a-acb7-e77d94af05a8",
   "metadata": {},
   "outputs": [],
   "source": [
    "#temp = list(y.unique())\n",
    "#codes = dict(zip(temp,range(len(temp))))\n",
    "#print(codes)\n",
    "#df['id'] = y.map(codes)"
   ]
  },
  {
   "cell_type": "code",
   "execution_count": 12,
   "id": "b6bf5b43-eb41-4758-982f-e3ac746dc123",
   "metadata": {},
   "outputs": [
    {
     "name": "stdout",
     "output_type": "stream",
     "text": [
      "<class 'pandas.core.frame.DataFrame'>\n",
      "RangeIndex: 47520 entries, 0 to 47519\n",
      "Data columns (total 13 columns):\n",
      " #   Column              Non-Null Count  Dtype         \n",
      "---  ------              --------------  -----         \n",
      " 0   Active(file)        47520 non-null  float64       \n",
      " 1   Inactive(anon)      47520 non-null  float64       \n",
      " 2   Inactive(file)      47520 non-null  float64       \n",
      " 3   anonpages           47520 non-null  float64       \n",
      " 4   buffers             47520 non-null  float64       \n",
      " 5   committed_as        47520 non-null  float64       \n",
      " 6   directmap4k         47520 non-null  float64       \n",
      " 7   kernelstack         47520 non-null  float64       \n",
      " 8   memory_utilization  47520 non-null  float64       \n",
      " 9   swaptotal           47520 non-null  float64       \n",
      " 10  unevictable         47520 non-null  float64       \n",
      " 11  timestamp           47520 non-null  datetime64[ns]\n",
      " 12  id                  47520 non-null  object        \n",
      "dtypes: datetime64[ns](1), float64(11), object(1)\n",
      "memory usage: 4.7+ MB\n",
      "[0.00000000e+00 9.02483625e-05 1.67743872e-04 ... 9.99558137e-01\n",
      " 9.99908672e-01 1.00000000e+00]\n"
     ]
    }
   ],
   "source": [
    "df.info()\n",
    "print(np.unique(df['Active(file)']))"
   ]
  },
  {
   "cell_type": "code",
   "execution_count": 13,
   "id": "14d649fd-7fef-46e5-adb3-dca9cedc9897",
   "metadata": {},
   "outputs": [
    {
     "name": "stdout",
     "output_type": "stream",
     "text": [
      "Active(file)\n"
     ]
    },
    {
     "name": "stderr",
     "output_type": "stream",
     "text": [
      "Feature Extraction: 100%|████████████████████████████████████████████████████████████████| 8/8 [01:07<00:00,  8.50s/it]\n"
     ]
    },
    {
     "name": "stdout",
     "output_type": "stream",
     "text": [
      "Inactive(anon)\n"
     ]
    },
    {
     "name": "stderr",
     "output_type": "stream",
     "text": [
      "Feature Extraction: 100%|████████████████████████████████████████████████████████████████| 8/8 [01:24<00:00, 10.59s/it]\n"
     ]
    },
    {
     "name": "stdout",
     "output_type": "stream",
     "text": [
      "Inactive(file)\n"
     ]
    },
    {
     "name": "stderr",
     "output_type": "stream",
     "text": [
      "Feature Extraction: 100%|████████████████████████████████████████████████████████████████| 8/8 [01:28<00:00, 11.05s/it]\n"
     ]
    },
    {
     "name": "stdout",
     "output_type": "stream",
     "text": [
      "anonpages\n"
     ]
    },
    {
     "name": "stderr",
     "output_type": "stream",
     "text": [
      "Feature Extraction: 100%|████████████████████████████████████████████████████████████████| 8/8 [01:29<00:00, 11.21s/it]\n"
     ]
    },
    {
     "name": "stdout",
     "output_type": "stream",
     "text": [
      "buffers\n"
     ]
    },
    {
     "name": "stderr",
     "output_type": "stream",
     "text": [
      "Feature Extraction: 100%|████████████████████████████████████████████████████████████████| 8/8 [01:32<00:00, 11.57s/it]\n"
     ]
    },
    {
     "name": "stdout",
     "output_type": "stream",
     "text": [
      "committed_as\n"
     ]
    },
    {
     "name": "stderr",
     "output_type": "stream",
     "text": [
      "Feature Extraction: 100%|████████████████████████████████████████████████████████████████| 8/8 [01:41<00:00, 12.70s/it]\n"
     ]
    },
    {
     "name": "stdout",
     "output_type": "stream",
     "text": [
      "directmap4k\n"
     ]
    },
    {
     "name": "stderr",
     "output_type": "stream",
     "text": [
      "Feature Extraction: 100%|████████████████████████████████████████████████████████████████| 8/8 [01:48<00:00, 13.50s/it]\n"
     ]
    },
    {
     "name": "stdout",
     "output_type": "stream",
     "text": [
      "kernelstack\n"
     ]
    },
    {
     "name": "stderr",
     "output_type": "stream",
     "text": [
      "Feature Extraction: 100%|████████████████████████████████████████████████████████████████| 8/8 [02:03<00:00, 15.38s/it]\n"
     ]
    },
    {
     "name": "stdout",
     "output_type": "stream",
     "text": [
      "memory_utilization\n"
     ]
    },
    {
     "name": "stderr",
     "output_type": "stream",
     "text": [
      "Feature Extraction: 100%|████████████████████████████████████████████████████████████████| 8/8 [02:01<00:00, 15.20s/it]\n"
     ]
    },
    {
     "name": "stdout",
     "output_type": "stream",
     "text": [
      "swaptotal\n"
     ]
    },
    {
     "name": "stderr",
     "output_type": "stream",
     "text": [
      "Feature Extraction: 100%|████████████████████████████████████████████████████████████████| 8/8 [02:08<00:00, 16.01s/it]\n"
     ]
    },
    {
     "name": "stdout",
     "output_type": "stream",
     "text": [
      "unevictable\n"
     ]
    },
    {
     "name": "stderr",
     "output_type": "stream",
     "text": [
      "Feature Extraction: 100%|████████████████████████████████████████████████████████████████| 8/8 [01:25<00:00, 10.71s/it]\n"
     ]
    }
   ],
   "source": [
    "from tsfresh import extract_features\n",
    "from tsfresh.feature_extraction import ComprehensiveFCParameters, MinimalFCParameters\n",
    "from tsfresh.feature_extraction.settings import from_columns\n",
    "\n",
    "def drop_nunique_na(dataframe):\n",
    "    dataframe = dataframe.dropna(axis=1, how='all')\n",
    "    nunique = dataframe.nunique()\n",
    "    cols_to_drop = nunique[nunique == 1].index\n",
    "    dataframe = dataframe.drop(list(cols_to_drop), axis=1)\n",
    "    return dataframe\n",
    "\n",
    "settings = ComprehensiveFCParameters()\n",
    "output_matrix = pd.DataFrame(index=df.columns)\n",
    "features = list(df.columns)\n",
    "\n",
    "for feature in features:\n",
    "    if feature == 'id' or feature == 'timestamp':\n",
    "        continue\n",
    "    print(feature)\n",
    "    X = extract_features(df[[feature, 'id', 'timestamp']], column_id='id', column_sort='timestamp', n_jobs=16,\n",
    "                         default_fc_parameters=settings)\n",
    "\n",
    "    reduced_X = drop_nunique_na(X)\n",
    "    uncorr_X = removeCorrelatedFeatures(reduced_X)\n",
    "    output_matrix = pd.concat([output_matrix, uncorr_X], axis=1, sort=False)\n"
   ]
  },
  {
   "cell_type": "code",
   "execution_count": 14,
   "id": "e6af9840-925a-45bd-b38e-c5a5e76f2708",
   "metadata": {},
   "outputs": [
    {
     "data": {
      "text/html": [
       "<div>\n",
       "<style scoped>\n",
       "    .dataframe tbody tr th:only-of-type {\n",
       "        vertical-align: middle;\n",
       "    }\n",
       "\n",
       "    .dataframe tbody tr th {\n",
       "        vertical-align: top;\n",
       "    }\n",
       "\n",
       "    .dataframe thead th {\n",
       "        text-align: right;\n",
       "    }\n",
       "</style>\n",
       "<table border=\"1\" class=\"dataframe\">\n",
       "  <thead>\n",
       "    <tr style=\"text-align: right;\">\n",
       "      <th></th>\n",
       "      <th>Active(file)__has_duplicate_max</th>\n",
       "      <th>Active(file)__has_duplicate_min</th>\n",
       "      <th>Active(file)__sum_values</th>\n",
       "      <th>Active(file)__length</th>\n",
       "      <th>Active(file)__variation_coefficient</th>\n",
       "      <th>Active(file)__skewness</th>\n",
       "      <th>Active(file)__kurtosis</th>\n",
       "      <th>Active(file)__absolute_sum_of_changes</th>\n",
       "      <th>Active(file)__longest_strike_below_mean</th>\n",
       "      <th>Active(file)__longest_strike_above_mean</th>\n",
       "      <th>...</th>\n",
       "      <th>unevictable__length</th>\n",
       "      <th>unevictable__skewness</th>\n",
       "      <th>unevictable__kurtosis</th>\n",
       "      <th>unevictable__longest_strike_below_mean</th>\n",
       "      <th>unevictable__longest_strike_above_mean</th>\n",
       "      <th>unevictable__last_location_of_minimum</th>\n",
       "      <th>unevictable__benford_correlation</th>\n",
       "      <th>unevictable__large_standard_deviation__r_0.30000000000000004</th>\n",
       "      <th>unevictable__fft_coefficient__attr_\"angle\"__coeff_14</th>\n",
       "      <th>unevictable__value_count__value_0</th>\n",
       "    </tr>\n",
       "  </thead>\n",
       "  <tbody>\n",
       "    <tr>\n",
       "      <th>0</th>\n",
       "      <td>0.0</td>\n",
       "      <td>0.0</td>\n",
       "      <td>0.959124</td>\n",
       "      <td>0.0</td>\n",
       "      <td>0.097039</td>\n",
       "      <td>0.459274</td>\n",
       "      <td>0.060115</td>\n",
       "      <td>0.088697</td>\n",
       "      <td>0.089256</td>\n",
       "      <td>0.138288</td>\n",
       "      <td>...</td>\n",
       "      <td>0.0</td>\n",
       "      <td>0.000000</td>\n",
       "      <td>1.000000</td>\n",
       "      <td>0.001190</td>\n",
       "      <td>0.498608</td>\n",
       "      <td>1.000000</td>\n",
       "      <td>0.078118</td>\n",
       "      <td>0.0</td>\n",
       "      <td>1.000000</td>\n",
       "      <td>0.0</td>\n",
       "    </tr>\n",
       "    <tr>\n",
       "      <th>1</th>\n",
       "      <td>0.0</td>\n",
       "      <td>0.0</td>\n",
       "      <td>0.803208</td>\n",
       "      <td>0.0</td>\n",
       "      <td>0.137893</td>\n",
       "      <td>0.880596</td>\n",
       "      <td>0.013148</td>\n",
       "      <td>0.003879</td>\n",
       "      <td>0.728643</td>\n",
       "      <td>0.497716</td>\n",
       "      <td>...</td>\n",
       "      <td>0.0</td>\n",
       "      <td>1.000000</td>\n",
       "      <td>0.003149</td>\n",
       "      <td>1.000000</td>\n",
       "      <td>0.000000</td>\n",
       "      <td>1.000000</td>\n",
       "      <td>0.078118</td>\n",
       "      <td>1.0</td>\n",
       "      <td>0.602877</td>\n",
       "      <td>0.0</td>\n",
       "    </tr>\n",
       "    <tr>\n",
       "      <th>2</th>\n",
       "      <td>0.0</td>\n",
       "      <td>0.0</td>\n",
       "      <td>0.352327</td>\n",
       "      <td>0.0</td>\n",
       "      <td>0.493815</td>\n",
       "      <td>0.779040</td>\n",
       "      <td>0.007171</td>\n",
       "      <td>1.000000</td>\n",
       "      <td>0.000000</td>\n",
       "      <td>0.000000</td>\n",
       "      <td>...</td>\n",
       "      <td>0.0</td>\n",
       "      <td>1.000000</td>\n",
       "      <td>0.003149</td>\n",
       "      <td>0.000000</td>\n",
       "      <td>0.000000</td>\n",
       "      <td>1.000000</td>\n",
       "      <td>NaN</td>\n",
       "      <td>0.0</td>\n",
       "      <td>0.000000</td>\n",
       "      <td>1.0</td>\n",
       "    </tr>\n",
       "    <tr>\n",
       "      <th>3</th>\n",
       "      <td>1.0</td>\n",
       "      <td>0.0</td>\n",
       "      <td>0.011098</td>\n",
       "      <td>1.0</td>\n",
       "      <td>1.000000</td>\n",
       "      <td>0.841689</td>\n",
       "      <td>0.003272</td>\n",
       "      <td>0.001480</td>\n",
       "      <td>1.000000</td>\n",
       "      <td>0.519037</td>\n",
       "      <td>...</td>\n",
       "      <td>1.0</td>\n",
       "      <td>0.999904</td>\n",
       "      <td>0.000022</td>\n",
       "      <td>0.859127</td>\n",
       "      <td>1.000000</td>\n",
       "      <td>0.002233</td>\n",
       "      <td>0.000000</td>\n",
       "      <td>0.0</td>\n",
       "      <td>0.499721</td>\n",
       "      <td>0.0</td>\n",
       "    </tr>\n",
       "    <tr>\n",
       "      <th>4</th>\n",
       "      <td>0.0</td>\n",
       "      <td>0.0</td>\n",
       "      <td>0.000000</td>\n",
       "      <td>1.0</td>\n",
       "      <td>0.261139</td>\n",
       "      <td>1.000000</td>\n",
       "      <td>0.088180</td>\n",
       "      <td>0.000106</td>\n",
       "      <td>0.889687</td>\n",
       "      <td>1.000000</td>\n",
       "      <td>...</td>\n",
       "      <td>1.0</td>\n",
       "      <td>1.000000</td>\n",
       "      <td>0.003149</td>\n",
       "      <td>0.000000</td>\n",
       "      <td>0.000000</td>\n",
       "      <td>1.000000</td>\n",
       "      <td>0.078118</td>\n",
       "      <td>0.0</td>\n",
       "      <td>0.000000</td>\n",
       "      <td>0.0</td>\n",
       "    </tr>\n",
       "    <tr>\n",
       "      <th>5</th>\n",
       "      <td>0.0</td>\n",
       "      <td>0.0</td>\n",
       "      <td>0.003310</td>\n",
       "      <td>0.0</td>\n",
       "      <td>0.038947</td>\n",
       "      <td>0.000000</td>\n",
       "      <td>1.000000</td>\n",
       "      <td>0.000185</td>\n",
       "      <td>0.153147</td>\n",
       "      <td>0.429485</td>\n",
       "      <td>...</td>\n",
       "      <td>0.0</td>\n",
       "      <td>0.995134</td>\n",
       "      <td>0.000000</td>\n",
       "      <td>0.482738</td>\n",
       "      <td>0.604872</td>\n",
       "      <td>0.000000</td>\n",
       "      <td>0.567532</td>\n",
       "      <td>0.0</td>\n",
       "      <td>0.494218</td>\n",
       "      <td>0.0</td>\n",
       "    </tr>\n",
       "    <tr>\n",
       "      <th>6</th>\n",
       "      <td>1.0</td>\n",
       "      <td>1.0</td>\n",
       "      <td>0.005884</td>\n",
       "      <td>0.0</td>\n",
       "      <td>0.183637</td>\n",
       "      <td>0.673174</td>\n",
       "      <td>0.000000</td>\n",
       "      <td>0.000030</td>\n",
       "      <td>0.370184</td>\n",
       "      <td>0.954005</td>\n",
       "      <td>...</td>\n",
       "      <td>0.0</td>\n",
       "      <td>0.999388</td>\n",
       "      <td>0.000032</td>\n",
       "      <td>0.499008</td>\n",
       "      <td>0.585847</td>\n",
       "      <td>0.003374</td>\n",
       "      <td>1.000000</td>\n",
       "      <td>0.0</td>\n",
       "      <td>0.501273</td>\n",
       "      <td>0.0</td>\n",
       "    </tr>\n",
       "    <tr>\n",
       "      <th>7</th>\n",
       "      <td>0.0</td>\n",
       "      <td>0.0</td>\n",
       "      <td>1.000000</td>\n",
       "      <td>0.0</td>\n",
       "      <td>0.000000</td>\n",
       "      <td>0.767505</td>\n",
       "      <td>0.003056</td>\n",
       "      <td>0.000000</td>\n",
       "      <td>0.572386</td>\n",
       "      <td>0.696619</td>\n",
       "      <td>...</td>\n",
       "      <td>0.0</td>\n",
       "      <td>1.000000</td>\n",
       "      <td>0.003149</td>\n",
       "      <td>1.000000</td>\n",
       "      <td>0.000000</td>\n",
       "      <td>1.000000</td>\n",
       "      <td>0.078118</td>\n",
       "      <td>1.0</td>\n",
       "      <td>0.602877</td>\n",
       "      <td>0.0</td>\n",
       "    </tr>\n",
       "  </tbody>\n",
       "</table>\n",
       "<p>8 rows × 410 columns</p>\n",
       "</div>"
      ],
      "text/plain": [
       "   Active(file)__has_duplicate_max  Active(file)__has_duplicate_min  \\\n",
       "0                              0.0                              0.0   \n",
       "1                              0.0                              0.0   \n",
       "2                              0.0                              0.0   \n",
       "3                              1.0                              0.0   \n",
       "4                              0.0                              0.0   \n",
       "5                              0.0                              0.0   \n",
       "6                              1.0                              1.0   \n",
       "7                              0.0                              0.0   \n",
       "\n",
       "   Active(file)__sum_values  Active(file)__length  \\\n",
       "0                  0.959124                   0.0   \n",
       "1                  0.803208                   0.0   \n",
       "2                  0.352327                   0.0   \n",
       "3                  0.011098                   1.0   \n",
       "4                  0.000000                   1.0   \n",
       "5                  0.003310                   0.0   \n",
       "6                  0.005884                   0.0   \n",
       "7                  1.000000                   0.0   \n",
       "\n",
       "   Active(file)__variation_coefficient  Active(file)__skewness  \\\n",
       "0                             0.097039                0.459274   \n",
       "1                             0.137893                0.880596   \n",
       "2                             0.493815                0.779040   \n",
       "3                             1.000000                0.841689   \n",
       "4                             0.261139                1.000000   \n",
       "5                             0.038947                0.000000   \n",
       "6                             0.183637                0.673174   \n",
       "7                             0.000000                0.767505   \n",
       "\n",
       "   Active(file)__kurtosis  Active(file)__absolute_sum_of_changes  \\\n",
       "0                0.060115                               0.088697   \n",
       "1                0.013148                               0.003879   \n",
       "2                0.007171                               1.000000   \n",
       "3                0.003272                               0.001480   \n",
       "4                0.088180                               0.000106   \n",
       "5                1.000000                               0.000185   \n",
       "6                0.000000                               0.000030   \n",
       "7                0.003056                               0.000000   \n",
       "\n",
       "   Active(file)__longest_strike_below_mean  \\\n",
       "0                                 0.089256   \n",
       "1                                 0.728643   \n",
       "2                                 0.000000   \n",
       "3                                 1.000000   \n",
       "4                                 0.889687   \n",
       "5                                 0.153147   \n",
       "6                                 0.370184   \n",
       "7                                 0.572386   \n",
       "\n",
       "   Active(file)__longest_strike_above_mean  ...  unevictable__length  \\\n",
       "0                                 0.138288  ...                  0.0   \n",
       "1                                 0.497716  ...                  0.0   \n",
       "2                                 0.000000  ...                  0.0   \n",
       "3                                 0.519037  ...                  1.0   \n",
       "4                                 1.000000  ...                  1.0   \n",
       "5                                 0.429485  ...                  0.0   \n",
       "6                                 0.954005  ...                  0.0   \n",
       "7                                 0.696619  ...                  0.0   \n",
       "\n",
       "   unevictable__skewness  unevictable__kurtosis  \\\n",
       "0               0.000000               1.000000   \n",
       "1               1.000000               0.003149   \n",
       "2               1.000000               0.003149   \n",
       "3               0.999904               0.000022   \n",
       "4               1.000000               0.003149   \n",
       "5               0.995134               0.000000   \n",
       "6               0.999388               0.000032   \n",
       "7               1.000000               0.003149   \n",
       "\n",
       "   unevictable__longest_strike_below_mean  \\\n",
       "0                                0.001190   \n",
       "1                                1.000000   \n",
       "2                                0.000000   \n",
       "3                                0.859127   \n",
       "4                                0.000000   \n",
       "5                                0.482738   \n",
       "6                                0.499008   \n",
       "7                                1.000000   \n",
       "\n",
       "   unevictable__longest_strike_above_mean  \\\n",
       "0                                0.498608   \n",
       "1                                0.000000   \n",
       "2                                0.000000   \n",
       "3                                1.000000   \n",
       "4                                0.000000   \n",
       "5                                0.604872   \n",
       "6                                0.585847   \n",
       "7                                0.000000   \n",
       "\n",
       "   unevictable__last_location_of_minimum  unevictable__benford_correlation  \\\n",
       "0                               1.000000                          0.078118   \n",
       "1                               1.000000                          0.078118   \n",
       "2                               1.000000                               NaN   \n",
       "3                               0.002233                          0.000000   \n",
       "4                               1.000000                          0.078118   \n",
       "5                               0.000000                          0.567532   \n",
       "6                               0.003374                          1.000000   \n",
       "7                               1.000000                          0.078118   \n",
       "\n",
       "   unevictable__large_standard_deviation__r_0.30000000000000004  \\\n",
       "0                                                0.0              \n",
       "1                                                1.0              \n",
       "2                                                0.0              \n",
       "3                                                0.0              \n",
       "4                                                0.0              \n",
       "5                                                0.0              \n",
       "6                                                0.0              \n",
       "7                                                1.0              \n",
       "\n",
       "   unevictable__fft_coefficient__attr_\"angle\"__coeff_14  \\\n",
       "0                                           1.000000      \n",
       "1                                           0.602877      \n",
       "2                                           0.000000      \n",
       "3                                           0.499721      \n",
       "4                                           0.000000      \n",
       "5                                           0.494218      \n",
       "6                                           0.501273      \n",
       "7                                           0.602877      \n",
       "\n",
       "   unevictable__value_count__value_0  \n",
       "0                                0.0  \n",
       "1                                0.0  \n",
       "2                                1.0  \n",
       "3                                0.0  \n",
       "4                                0.0  \n",
       "5                                0.0  \n",
       "6                                0.0  \n",
       "7                                0.0  \n",
       "\n",
       "[8 rows x 410 columns]"
      ]
     },
     "execution_count": 14,
     "metadata": {},
     "output_type": "execute_result"
    }
   ],
   "source": [
    "output_matrix"
   ]
  },
  {
   "cell_type": "code",
   "execution_count": null,
   "id": "0d72aef8-a1f3-42e8-a3d9-f72d4322282a",
   "metadata": {},
   "outputs": [],
   "source": [
    "#constructed_features = from_columns(uncorr_X)\n",
    "#constructed_features = constructed_features[feature]\n",
    "\n",
    "#reduced_X = extract_features(df[[feature, 'id', 'timestamp']], column_id='id', column_sort='timestamp', n_jobs=16,\n",
    "#                         default_fc_parameters=constructed_features)"
   ]
  }
 ],
 "metadata": {
  "kernelspec": {
   "display_name": "Python 3 (ipykernel)",
   "language": "python",
   "name": "python3"
  },
  "language_info": {
   "codemirror_mode": {
    "name": "ipython",
    "version": 3
   },
   "file_extension": ".py",
   "mimetype": "text/x-python",
   "name": "python",
   "nbconvert_exporter": "python",
   "pygments_lexer": "ipython3",
   "version": "3.9.16"
  }
 },
 "nbformat": 4,
 "nbformat_minor": 5
}
